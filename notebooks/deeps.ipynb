{
 "cells": [
  {
   "cell_type": "code",
   "execution_count": 2,
   "metadata": {
    "collapsed": true
   },
   "outputs": [
    {
     "name": "stderr",
     "output_type": "stream",
     "text": [
      "/Users/c4103145/Documents/hackathon/venv/lib/python3.8/site-packages/xgboost/compat.py:36: FutureWarning: pandas.Int64Index is deprecated and will be removed from pandas in a future version. Use pandas.Index with the appropriate dtype instead.\n",
      "  from pandas import MultiIndex, Int64Index\n"
     ]
    }
   ],
   "source": [
    "import pandas as pd\n",
    "from sklearn.model_selection import train_test_split\n",
    "import numpy as np\n",
    "from xgboost import XGBRegressor\n",
    "from sklearn.metrics import mean_absolute_error"
   ]
  },
  {
   "cell_type": "code",
   "execution_count": 6,
   "outputs": [
    {
     "data": {
      "text/plain": "          carpark    total_items  idle_hours  total_on_till_hours  \\\nstore_id                                                            \n37            1.0   78881.663462   85.822829           236.759319   \n38            1.0   64774.625000   76.529260           185.660409   \n54            1.0   48444.278846   55.794837           146.601306   \n55            1.0  128745.615385   90.282476           313.043112   \n57            1.0  116904.836538   90.833235           281.287166   \n...           ...            ...         ...                  ...   \n9894          1.0   93538.413462   75.896985           234.486998   \n9920          0.0   93934.038462  113.542545           272.654778   \n9946          1.0   36550.067308   48.039415           116.290887   \n9991          1.0   93056.509615   68.584487           226.400451   \n9996          1.0   47899.413462   40.488902           121.500021   \n\n          total_transaction_count  \nstore_id                           \n37                    9175.990385  \n38                    7478.067308  \n54                    6685.336538  \n55                    9567.961538  \n57                   11069.105769  \n...                           ...  \n9894                  7747.663462  \n9920                  7558.442308  \n9946                  5989.182692  \n9991                  8493.038462  \n9996                  4209.278846  \n\n[600 rows x 5 columns]",
      "text/html": "<div>\n<style scoped>\n    .dataframe tbody tr th:only-of-type {\n        vertical-align: middle;\n    }\n\n    .dataframe tbody tr th {\n        vertical-align: top;\n    }\n\n    .dataframe thead th {\n        text-align: right;\n    }\n</style>\n<table border=\"1\" class=\"dataframe\">\n  <thead>\n    <tr style=\"text-align: right;\">\n      <th></th>\n      <th>carpark</th>\n      <th>total_items</th>\n      <th>idle_hours</th>\n      <th>total_on_till_hours</th>\n      <th>total_transaction_count</th>\n    </tr>\n    <tr>\n      <th>store_id</th>\n      <th></th>\n      <th></th>\n      <th></th>\n      <th></th>\n      <th></th>\n    </tr>\n  </thead>\n  <tbody>\n    <tr>\n      <th>37</th>\n      <td>1.0</td>\n      <td>78881.663462</td>\n      <td>85.822829</td>\n      <td>236.759319</td>\n      <td>9175.990385</td>\n    </tr>\n    <tr>\n      <th>38</th>\n      <td>1.0</td>\n      <td>64774.625000</td>\n      <td>76.529260</td>\n      <td>185.660409</td>\n      <td>7478.067308</td>\n    </tr>\n    <tr>\n      <th>54</th>\n      <td>1.0</td>\n      <td>48444.278846</td>\n      <td>55.794837</td>\n      <td>146.601306</td>\n      <td>6685.336538</td>\n    </tr>\n    <tr>\n      <th>55</th>\n      <td>1.0</td>\n      <td>128745.615385</td>\n      <td>90.282476</td>\n      <td>313.043112</td>\n      <td>9567.961538</td>\n    </tr>\n    <tr>\n      <th>57</th>\n      <td>1.0</td>\n      <td>116904.836538</td>\n      <td>90.833235</td>\n      <td>281.287166</td>\n      <td>11069.105769</td>\n    </tr>\n    <tr>\n      <th>...</th>\n      <td>...</td>\n      <td>...</td>\n      <td>...</td>\n      <td>...</td>\n      <td>...</td>\n    </tr>\n    <tr>\n      <th>9894</th>\n      <td>1.0</td>\n      <td>93538.413462</td>\n      <td>75.896985</td>\n      <td>234.486998</td>\n      <td>7747.663462</td>\n    </tr>\n    <tr>\n      <th>9920</th>\n      <td>0.0</td>\n      <td>93934.038462</td>\n      <td>113.542545</td>\n      <td>272.654778</td>\n      <td>7558.442308</td>\n    </tr>\n    <tr>\n      <th>9946</th>\n      <td>1.0</td>\n      <td>36550.067308</td>\n      <td>48.039415</td>\n      <td>116.290887</td>\n      <td>5989.182692</td>\n    </tr>\n    <tr>\n      <th>9991</th>\n      <td>1.0</td>\n      <td>93056.509615</td>\n      <td>68.584487</td>\n      <td>226.400451</td>\n      <td>8493.038462</td>\n    </tr>\n    <tr>\n      <th>9996</th>\n      <td>1.0</td>\n      <td>47899.413462</td>\n      <td>40.488902</td>\n      <td>121.500021</td>\n      <td>4209.278846</td>\n    </tr>\n  </tbody>\n</table>\n<p>600 rows × 5 columns</p>\n</div>"
     },
     "execution_count": 6,
     "metadata": {},
     "output_type": "execute_result"
    }
   ],
   "source": [],
   "metadata": {
    "collapsed": false,
    "pycharm": {
     "name": "#%%\n"
    }
   }
  },
  {
   "cell_type": "code",
   "execution_count": 3,
   "outputs": [],
   "source": [
    "data = pd.read_csv('../data/raw/train_test.csv')\n",
    "data['week_start'] =  pd.to_datetime(data['week_start'])\n",
    "\n",
    "lookup = data.drop(columns = ['week_start','total_items','idle_hours','total_on_till_hours','total_transaction_count'])\n",
    "data = data.drop(columns = ['idle_hours','total_transaction_count','total_items'])\n",
    "\n",
    "lookup_unique = lookup.drop_duplicates()\n",
    "\n",
    "lookup_unique_OHE = pd.get_dummies(lookup_unique)\n",
    "lookup_unique_OHE = lookup_unique_OHE.set_index('store_id')\n",
    "data_OHE = pd.get_dummies(data)"
   ],
   "metadata": {
    "collapsed": false,
    "pycharm": {
     "name": "#%%\n"
    }
   }
  },
  {
   "cell_type": "code",
   "execution_count": 66,
   "outputs": [],
   "source": [
    "data_OHE['day'] = data_OHE['week_start'].dt.day\n",
    "data_OHE['month'] = data_OHE['week_start'].dt.month\n",
    "data_OHE['year'] = data_OHE['week_start'].dt.year\n",
    "\n",
    "data_OHE= data_OHE.drop(columns=['week_start'])\n",
    "\n",
    "X = data_OHE.drop(columns=['total_on_till_hours'])\n",
    "y = np.ravel(data_OHE[['total_on_till_hours']])\n",
    "\n",
    "X_train, X_test, y_train, y_test = train_test_split(X, y, test_size=0.3, random_state=42)\n"
   ],
   "metadata": {
    "collapsed": false,
    "pycharm": {
     "name": "#%%\n"
    }
   }
  },
  {
   "cell_type": "code",
   "execution_count": 67,
   "outputs": [],
   "source": [
    "model = XGBRegressor(random_state = 42, n_jobs = -1)"
   ],
   "metadata": {
    "collapsed": false,
    "pycharm": {
     "name": "#%%\n"
    }
   }
  },
  {
   "cell_type": "code",
   "execution_count": 68,
   "outputs": [
    {
     "name": "stderr",
     "output_type": "stream",
     "text": [
      "/Users/c4103145/Documents/hackathon/venv/lib/python3.8/site-packages/xgboost/data.py:262: FutureWarning: pandas.Int64Index is deprecated and will be removed from pandas in a future version. Use pandas.Index with the appropriate dtype instead.\n",
      "  elif isinstance(data.columns, (pd.Int64Index, pd.RangeIndex)):\n"
     ]
    },
    {
     "data": {
      "text/plain": "XGBRegressor(base_score=0.5, booster='gbtree', colsample_bylevel=1,\n             colsample_bynode=1, colsample_bytree=1, enable_categorical=False,\n             gamma=0, gpu_id=-1, importance_type=None,\n             interaction_constraints='', learning_rate=0.300000012,\n             max_delta_step=0, max_depth=6, min_child_weight=1, missing=nan,\n             monotone_constraints='()', n_estimators=100, n_jobs=-1,\n             num_parallel_tree=1, predictor='auto', random_state=42,\n             reg_alpha=0, reg_lambda=1, scale_pos_weight=1, subsample=1,\n             tree_method='exact', validate_parameters=1, verbosity=None)"
     },
     "execution_count": 68,
     "metadata": {},
     "output_type": "execute_result"
    }
   ],
   "source": [
    "model.fit(X_train,y_train)"
   ],
   "metadata": {
    "collapsed": false,
    "pycharm": {
     "name": "#%%\n"
    }
   }
  },
  {
   "cell_type": "code",
   "execution_count": 69,
   "outputs": [
    {
     "name": "stderr",
     "output_type": "stream",
     "text": [
      "/Users/c4103145/Documents/hackathon/venv/lib/python3.8/site-packages/xgboost/data.py:262: FutureWarning: pandas.Int64Index is deprecated and will be removed from pandas in a future version. Use pandas.Index with the appropriate dtype instead.\n",
      "  elif isinstance(data.columns, (pd.Int64Index, pd.RangeIndex)):\n"
     ]
    }
   ],
   "source": [
    "predictions = model.predict(X_test)"
   ],
   "metadata": {
    "collapsed": false,
    "pycharm": {
     "name": "#%%\n"
    }
   }
  },
  {
   "cell_type": "code",
   "execution_count": 70,
   "outputs": [
    {
     "data": {
      "text/plain": "17.627557679177656"
     },
     "execution_count": 70,
     "metadata": {},
     "output_type": "execute_result"
    }
   ],
   "source": [
    "mean_absolute_error(y_true=y_test, y_pred=predictions)"
   ],
   "metadata": {
    "collapsed": false,
    "pycharm": {
     "name": "#%%\n"
    }
   }
  },
  {
   "cell_type": "code",
   "execution_count": 71,
   "outputs": [],
   "source": [
    "testing_original = pd.read_csv('../data/raw/result.csv')\n",
    "testing_original['week_start'] =  pd.to_datetime(testing_original['week_start'])\n",
    "\n",
    "testing_df = testing_original.copy()\n",
    "\n",
    "testing_df['day'] = testing_df['week_start'].dt.day\n",
    "testing_df['month'] = testing_df['week_start'].dt.month\n",
    "testing_df['year'] = testing_df['week_start'].dt.year\n",
    "testing_df = testing_df.set_index('store_id')"
   ],
   "metadata": {
    "collapsed": false,
    "pycharm": {
     "name": "#%%\n"
    }
   }
  },
  {
   "cell_type": "code",
   "execution_count": 72,
   "outputs": [],
   "source": [
    "testing_df = testing_df.join(lookup_unique_OHE)"
   ],
   "metadata": {
    "collapsed": false,
    "pycharm": {
     "name": "#%%\n"
    }
   }
  },
  {
   "cell_type": "code",
   "execution_count": 73,
   "outputs": [],
   "source": [
    "testing_df_for_predict = testing_df.drop(columns=['week_start','predicted_total_on_till_hours'])"
   ],
   "metadata": {
    "collapsed": false,
    "pycharm": {
     "name": "#%%\n"
    }
   }
  },
  {
   "cell_type": "code",
   "execution_count": 74,
   "outputs": [],
   "source": [
    "testing_df_for_predict = testing_df_for_predict.reset_index()"
   ],
   "metadata": {
    "collapsed": false,
    "pycharm": {
     "name": "#%%\n"
    }
   }
  },
  {
   "cell_type": "code",
   "execution_count": 76,
   "outputs": [
    {
     "name": "stderr",
     "output_type": "stream",
     "text": [
      "/Users/c4103145/Documents/hackathon/venv/lib/python3.8/site-packages/xgboost/data.py:262: FutureWarning: pandas.Int64Index is deprecated and will be removed from pandas in a future version. Use pandas.Index with the appropriate dtype instead.\n",
      "  elif isinstance(data.columns, (pd.Int64Index, pd.RangeIndex)):\n"
     ]
    }
   ],
   "source": [
    "testing_predictions = model.predict(testing_df_for_predict)"
   ],
   "metadata": {
    "collapsed": false,
    "pycharm": {
     "name": "#%%\n"
    }
   }
  },
  {
   "cell_type": "code",
   "execution_count": 81,
   "outputs": [],
   "source": [
    "testing_original['predicted_total_on_till_hours'] = testing_predictions"
   ],
   "metadata": {
    "collapsed": false,
    "pycharm": {
     "name": "#%%\n"
    }
   }
  },
  {
   "cell_type": "code",
   "execution_count": 83,
   "outputs": [],
   "source": [
    "output_df = testing_original[['week_start','predicted_total_on_till_hours']]"
   ],
   "metadata": {
    "collapsed": false,
    "pycharm": {
     "name": "#%%\n"
    }
   }
  },
  {
   "cell_type": "code",
   "execution_count": 86,
   "outputs": [],
   "source": [
    "output_df = output_df.reset_index()"
   ],
   "metadata": {
    "collapsed": false,
    "pycharm": {
     "name": "#%%\n"
    }
   }
  },
  {
   "cell_type": "code",
   "execution_count": 87,
   "outputs": [],
   "source": [
    "output_df.to_csv('~/Desktop/output.csv')"
   ],
   "metadata": {
    "collapsed": false,
    "pycharm": {
     "name": "#%%\n"
    }
   }
  },
  {
   "cell_type": "code",
   "execution_count": null,
   "outputs": [],
   "source": [],
   "metadata": {
    "collapsed": false,
    "pycharm": {
     "name": "#%%\n"
    }
   }
  }
 ],
 "metadata": {
  "kernelspec": {
   "display_name": "Python 3",
   "language": "python",
   "name": "python3"
  },
  "language_info": {
   "codemirror_mode": {
    "name": "ipython",
    "version": 2
   },
   "file_extension": ".py",
   "mimetype": "text/x-python",
   "name": "python",
   "nbconvert_exporter": "python",
   "pygments_lexer": "ipython2",
   "version": "2.7.6"
  }
 },
 "nbformat": 4,
 "nbformat_minor": 0
}