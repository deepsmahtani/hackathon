{
 "cells": [
  {
   "cell_type": "code",
   "execution_count": 1,
   "metadata": {
    "collapsed": true
   },
   "outputs": [],
   "source": [
    "import pandas as pd\n",
    "from sklearn.cluster import KMeans\n",
    "import matplotlib.pyplot as plt"
   ]
  },
  {
   "cell_type": "code",
   "execution_count": 2,
   "metadata": {
    "collapsed": false,
    "pycharm": {
     "name": "#%%\n"
    }
   },
   "outputs": [],
   "source": [
    "data = pd.read_csv('../data/raw/train_test.csv')\n",
    "\n",
    "#removing stores which are closed\n",
    "closed_stores = [8332, 1296, 3094, 2969, 6554, 1436, 4637, 4381, 1821, 1568, 1067, 7980, 3887, 7223, 8125, 7870, 6211, 3269, 2119, 73, 9674, 2123, 9548, 7883, 2257, 5597, 9438, 6376, 2153, 4077, 111, 1010, 116, 1012, 8950, 247, 1407]\n",
    "\n",
    "data_only_open = data[~(data['store_id'].isin(closed_stores))]\n",
    "\n",
    "data_only_open = data_only_open.drop(columns=['carpark'])\n",
    "data_for_kmeans = data_only_open.groupby(['store_id']).mean()"
   ]
  },
  {
   "cell_type": "code",
   "execution_count": 3,
   "metadata": {
    "collapsed": false,
    "pycharm": {
     "name": "#%%\n"
    }
   },
   "outputs": [
    {
     "data": {
      "image/png": "[encoded data removed]",
      "text/plain": [
       "<Figure size 432x288 with 1 Axes>"
      ]
     },
     "metadata": {
      "needs_background": "light"
     },
     "output_type": "display_data"
    }
   ],
   "source": [
    "n_clusters = 25\n",
    "distortions = []\n",
    "for i in range(1, n_clusters):\n",
    "    km = KMeans(\n",
    "        n_clusters=i, init='k-means++',\n",
    "        n_init=10, max_iter=300,\n",
    "        tol=1e-04, random_state=42\n",
    "    )\n",
    "    km.fit(data_for_kmeans)\n",
    "    distortions.append(km.inertia_)\n",
    "\n",
    "d =pd.DataFrame(distortions)\n",
    "d = d.reset_index()\n",
    "d.columns = ['clusters','distortions']\n",
    "\n",
    "# plot\n",
    "plt.plot(d['clusters'],d['distortions'], marker='o')\n",
    "plt.xlabel('Number of clusters')\n",
    "plt.ylabel('Distortion')\n",
    "plt.show()"
   ]
  },
  {
   "cell_type": "code",
   "execution_count": 4,
   "metadata": {
    "collapsed": false,
    "pycharm": {
     "name": "#%%\n"
    }
   },
   "outputs": [],
   "source": [
    "km = KMeans(\n",
    "        n_clusters=5, init='k-means++',\n",
    "        n_init=10, max_iter=300,\n",
    "        tol=1e-04, random_state=42\n",
    "    )\n",
    "data_for_kmeans['cluster'] = km.fit_predict(data_for_kmeans)"
   ]
  },
  {
   "cell_type": "code",
   "execution_count": 5,
   "metadata": {
    "collapsed": false,
    "pycharm": {
     "name": "#%%\n"
    }
   },
   "outputs": [],
   "source": [
    "lookup = data_for_kmeans['cluster']"
   ]
  },
  {
   "cell_type": "code",
   "execution_count": 6,
   "metadata": {
    "collapsed": false,
    "pycharm": {
     "name": "#%%\n"
    }
   },
   "outputs": [],
   "source": [
    "data_with_clusters = (data.set_index('store_id')).join(lookup)"
   ]
  },
  {
   "cell_type": "code",
   "execution_count": 7,
   "metadata": {
    "collapsed": false,
    "pycharm": {
     "name": "#%%\n"
    }
   },
   "outputs": [],
   "source": [
    "data_with_clusters.to_csv('../data/processed/data_with_clusters.csv')"
   ]
  },
  {
   "cell_type": "code",
   "execution_count": 8,
   "metadata": {
    "collapsed": false,
    "pycharm": {
     "name": "#%%\n"
    }
   },
   "outputs": [
    {
     "name": "stdout",
     "output_type": "stream",
     "text": [
      "number of stores in cluster 0: 196\n",
      "number of stores in cluster 1: 67\n",
      "number of stores in cluster 2: 29\n",
      "number of stores in cluster 3: 182\n",
      "number of stores in cluster 4: 89\n"
     ]
    }
   ],
   "source": [
    "cl0 = (data_with_clusters[data_with_clusters['cluster']==0]).reset_index()\n",
    "cl1 = (data_with_clusters[data_with_clusters['cluster']==1]).reset_index()\n",
    "cl2 = (data_with_clusters[data_with_clusters['cluster']==2]).reset_index()\n",
    "cl3 = (data_with_clusters[data_with_clusters['cluster']==3]).reset_index()\n",
    "cl4 = (data_with_clusters[data_with_clusters['cluster']==4]).reset_index()\n",
    "\n",
    "stores_in_cl0 = set(cl0['store_id'])\n",
    "stores_in_cl1 = set(cl1['store_id'])\n",
    "stores_in_cl2 = set(cl2['store_id'])\n",
    "stores_in_cl3 = set(cl3['store_id'])\n",
    "stores_in_cl4 = set(cl4['store_id'])\n",
    "\n",
    "print(f'number of stores in cluster 0: {len(stores_in_cl0)}')\n",
    "print(f'number of stores in cluster 1: {len(stores_in_cl1)}')\n",
    "print(f'number of stores in cluster 2: {len(stores_in_cl2)}')\n",
    "print(f'number of stores in cluster 3: {len(stores_in_cl3)}')\n",
    "print(f'number of stores in cluster 4: {len(stores_in_cl4)}')"
   ]
  },
  {
   "cell_type": "code",
   "execution_count": null,
   "metadata": {
    "collapsed": false,
    "pycharm": {
     "name": "#%%\n"
    }
   },
   "outputs": [],
   "source": []
  }
 ],
 "metadata": {
  "kernelspec": {
   "display_name": "Python 3",
   "language": "python",
   "name": "python3"
  },
  "language_info": {
   "codemirror_mode": {
    "name": "ipython",
    "version": 3
   },
   "file_extension": ".py",
   "mimetype": "text/x-python",
   "name": "python",
   "nbconvert_exporter": "python",
   "pygments_lexer": "ipython3",
   "version": "3.10.0"
  }
 },
 "nbformat": 4,
 "nbformat_minor": 0
}
