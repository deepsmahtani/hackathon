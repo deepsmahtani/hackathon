{
 "cells": [
  {
   "cell_type": "markdown",
   "metadata": {},
   "source": []
  },
  {
   "cell_type": "code",
   "execution_count": 5,
   "metadata": {},
   "outputs": [],
   "source": [
    "import numpy as np\n",
    "import pandas as pd\n",
    "import statsmodels.api as sm\n",
    "from statsmodels.tsa.api import VAR\n",
    "import seaborn as sns"
   ]
  },
  {
   "cell_type": "code",
   "execution_count": 6,
   "metadata": {},
   "outputs": [],
   "source": [
    "slots = range(5)"
   ]
  },
  {
   "cell_type": "code",
   "execution_count": 7,
   "metadata": {},
   "outputs": [
    {
     "name": "stdout",
     "output_type": "stream",
     "text": [
      "reading cl0_pivot.csv\n",
      "reading cl1_pivot.csv\n",
      "reading cl2_pivot.csv\n",
      "reading cl3_pivot.csv\n",
      "reading cl4_pivot.csv\n"
     ]
    }
   ],
   "source": [
    "for slot in slots:\n",
    "    print(f\"reading cl{slot}_pivot.csv\")\n",
    "    df = pd.read_csv(f\"../../data/processed/cl{slot}_pivot.csv\")\n",
    "    df.set_index(\"week_start\", inplace=True)\n",
    "    data = np.log(df).diff().dropna()\n",
    "    model = VAR(data, freq='W')\n",
    "    results = model.fit(1)\n",
    "    df_new = pd.DataFrame(columns=df.columns)\n",
    "    df_new.loc[0] = results.forecast(df.values[-1:], 1)[0]\n",
    "    df_new.to_csv(f\"../../data/processed/cl{slot}_forecast.csv\")\n"
   ]
  },
  {
   "cell_type": "code",
   "execution_count": 8,
   "metadata": {},
   "outputs": [
    {
     "data": {
      "text/html": [
       "<div>\n",
       "<style scoped>\n",
       "    .dataframe tbody tr th:only-of-type {\n",
       "        vertical-align: middle;\n",
       "    }\n",
       "\n",
       "    .dataframe tbody tr th {\n",
       "        vertical-align: top;\n",
       "    }\n",
       "\n",
       "    .dataframe thead th {\n",
       "        text-align: right;\n",
       "    }\n",
       "</style>\n",
       "<table border=\"1\" class=\"dataframe\">\n",
       "  <thead>\n",
       "    <tr style=\"text-align: right;\">\n",
       "      <th></th>\n",
       "      <th>131</th>\n",
       "      <th>134</th>\n",
       "      <th>217</th>\n",
       "      <th>243</th>\n",
       "      <th>262</th>\n",
       "      <th>283</th>\n",
       "      <th>396</th>\n",
       "      <th>534</th>\n",
       "      <th>563</th>\n",
       "      <th>686</th>\n",
       "      <th>...</th>\n",
       "      <th>7456</th>\n",
       "      <th>7689</th>\n",
       "      <th>7744</th>\n",
       "      <th>7841</th>\n",
       "      <th>7919</th>\n",
       "      <th>7948</th>\n",
       "      <th>8390</th>\n",
       "      <th>8866</th>\n",
       "      <th>9836</th>\n",
       "      <th>9865</th>\n",
       "    </tr>\n",
       "  </thead>\n",
       "  <tbody>\n",
       "    <tr>\n",
       "      <th>0</th>\n",
       "      <td>148.176767</td>\n",
       "      <td>327.808609</td>\n",
       "      <td>375.772968</td>\n",
       "      <td>158.184751</td>\n",
       "      <td>305.502943</td>\n",
       "      <td>232.143107</td>\n",
       "      <td>367.282345</td>\n",
       "      <td>423.980105</td>\n",
       "      <td>-378.721031</td>\n",
       "      <td>326.495012</td>\n",
       "      <td>...</td>\n",
       "      <td>209.290677</td>\n",
       "      <td>83.463583</td>\n",
       "      <td>187.616046</td>\n",
       "      <td>-497.801169</td>\n",
       "      <td>199.851941</td>\n",
       "      <td>-1683.784729</td>\n",
       "      <td>278.227228</td>\n",
       "      <td>134.26527</td>\n",
       "      <td>172.291096</td>\n",
       "      <td>1427.73836</td>\n",
       "    </tr>\n",
       "  </tbody>\n",
       "</table>\n",
       "<p>1 rows × 89 columns</p>\n",
       "</div>"
      ],
      "text/plain": [
       "          131         134         217         243         262         283  \\\n",
       "0  148.176767  327.808609  375.772968  158.184751  305.502943  232.143107   \n",
       "\n",
       "          396         534         563         686  ...        7456       7689  \\\n",
       "0  367.282345  423.980105 -378.721031  326.495012  ...  209.290677  83.463583   \n",
       "\n",
       "         7744        7841        7919         7948        8390       8866  \\\n",
       "0  187.616046 -497.801169  199.851941 -1683.784729  278.227228  134.26527   \n",
       "\n",
       "         9836        9865  \n",
       "0  172.291096  1427.73836  \n",
       "\n",
       "[1 rows x 89 columns]"
      ]
     },
     "execution_count": 8,
     "metadata": {},
     "output_type": "execute_result"
    }
   ],
   "source": [
    "df_new"
   ]
  },
  {
   "cell_type": "code",
   "execution_count": null,
   "metadata": {},
   "outputs": [],
   "source": []
  }
 ],
 "metadata": {
  "interpreter": {
   "hash": "595743217c0d8e1e27b339191a82bf425c058bddb0f3496c02f04996a5e5fa09"
  },
  "kernelspec": {
   "display_name": "Python 3.10.0 ('venv': venv)",
   "language": "python",
   "name": "python3"
  },
  "language_info": {
   "codemirror_mode": {
    "name": "ipython",
    "version": 3
   },
   "file_extension": ".py",
   "mimetype": "text/x-python",
   "name": "python",
   "nbconvert_exporter": "python",
   "pygments_lexer": "ipython3",
   "version": "3.10.0"
  },
  "orig_nbformat": 4
 },
 "nbformat": 4,
 "nbformat_minor": 2
}
