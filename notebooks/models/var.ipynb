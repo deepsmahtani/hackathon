{
 "cells": [
  {
   "cell_type": "markdown",
   "metadata": {},
   "source": []
  },
  {
   "cell_type": "code",
   "execution_count": 30,
   "metadata": {},
   "outputs": [],
   "source": [
    "import datetime\n",
    "\n",
    "import numpy as np\n",
    "import pandas as pd\n",
    "import statsmodels.api as sm\n",
    "from statsmodels.tsa.api import VAR\n",
    "import seaborn as sns"
   ]
  },
  {
   "cell_type": "code",
   "execution_count": 31,
   "metadata": {},
   "outputs": [],
   "source": [
    "slots = range(5)"
   ]
  },
  {
   "cell_type": "code",
   "execution_count": 4,
   "metadata": {},
   "outputs": [
    {
     "name": "stdout",
     "output_type": "stream",
     "text": [
      "reading cl0_pivot.csv\n",
      "reading cl1_pivot.csv\n",
      "reading cl2_pivot.csv\n",
      "reading cl3_pivot.csv\n",
      "reading cl4_pivot.csv\n"
     ]
    }
   ],
   "source": [
    "for slot in slots:\n",
    "    print(f\"reading cl{slot}_pivot.csv\")\n",
    "    df = pd.read_csv(f\"../../data/processed/cl{slot}_pivot.csv\")\n",
    "    df.set_index(\"week_start\", inplace=True)\n",
    "    data = np.log(df).diff().dropna()\n",
    "    model = VAR(data, freq='W')\n",
    "    results = model.fit(1)\n",
    "    df_new = pd.DataFrame(columns=df.columns)\n",
    "    df_new.loc[0] = results.forecast(df.values[-1:], 1)[0]\n",
    "    df_new.to_csv(f\"../../data/processed/cl{slot}_forecast.csv\")\n"
   ]
  },
  {
   "cell_type": "code",
   "execution_count": 5,
   "metadata": {},
   "outputs": [
    {
     "data": {
      "text/plain": "          131         134         217         243         262         283  \\\n0  148.176767  327.808609  375.772968  158.184751  305.502943  232.143107   \n\n          396         534         563         686  ...        7456       7689  \\\n0  367.282345  423.980105 -378.721031  326.495012  ...  209.290677  83.463583   \n\n         7744        7841        7919         7948        8390       8866  \\\n0  187.616046 -497.801169  199.851941 -1683.784729  278.227228  134.26527   \n\n         9836        9865  \n0  172.291096  1427.73836  \n\n[1 rows x 89 columns]",
      "text/html": "<div>\n<style scoped>\n    .dataframe tbody tr th:only-of-type {\n        vertical-align: middle;\n    }\n\n    .dataframe tbody tr th {\n        vertical-align: top;\n    }\n\n    .dataframe thead th {\n        text-align: right;\n    }\n</style>\n<table border=\"1\" class=\"dataframe\">\n  <thead>\n    <tr style=\"text-align: right;\">\n      <th></th>\n      <th>131</th>\n      <th>134</th>\n      <th>217</th>\n      <th>243</th>\n      <th>262</th>\n      <th>283</th>\n      <th>396</th>\n      <th>534</th>\n      <th>563</th>\n      <th>686</th>\n      <th>...</th>\n      <th>7456</th>\n      <th>7689</th>\n      <th>7744</th>\n      <th>7841</th>\n      <th>7919</th>\n      <th>7948</th>\n      <th>8390</th>\n      <th>8866</th>\n      <th>9836</th>\n      <th>9865</th>\n    </tr>\n  </thead>\n  <tbody>\n    <tr>\n      <th>0</th>\n      <td>148.176767</td>\n      <td>327.808609</td>\n      <td>375.772968</td>\n      <td>158.184751</td>\n      <td>305.502943</td>\n      <td>232.143107</td>\n      <td>367.282345</td>\n      <td>423.980105</td>\n      <td>-378.721031</td>\n      <td>326.495012</td>\n      <td>...</td>\n      <td>209.290677</td>\n      <td>83.463583</td>\n      <td>187.616046</td>\n      <td>-497.801169</td>\n      <td>199.851941</td>\n      <td>-1683.784729</td>\n      <td>278.227228</td>\n      <td>134.26527</td>\n      <td>172.291096</td>\n      <td>1427.73836</td>\n    </tr>\n  </tbody>\n</table>\n<p>1 rows × 89 columns</p>\n</div>"
     },
     "execution_count": 5,
     "metadata": {},
     "output_type": "execute_result"
    }
   ],
   "source": [
    "df_new"
   ]
  },
  {
   "cell_type": "code",
   "execution_count": 14,
   "metadata": {},
   "outputs": [
    {
     "name": "stdout",
     "output_type": "stream",
     "text": [
      "reading cl0_pivot.csv\n",
      "54      4.887251\n",
      "84      5.056692\n",
      "108     4.977720\n",
      "109     4.645085\n",
      "110     4.497074\n",
      "          ...   \n",
      "9182    4.814870\n",
      "9399    4.604934\n",
      "9519    4.846880\n",
      "9946    4.883462\n",
      "9996    4.472756\n",
      "Name: 2021-11-07, Length: 196, dtype: float64\n",
      "reading cl1_pivot.csv\n",
      "57      5.258337\n",
      "98      5.295167\n",
      "132     5.409554\n",
      "181     5.461270\n",
      "198     4.960267\n",
      "          ...   \n",
      "9137    5.300789\n",
      "9153    5.166965\n",
      "9894    5.241206\n",
      "9920    5.382410\n",
      "9991    4.944341\n",
      "Name: 2021-11-07, Length: 67, dtype: float64\n",
      "reading cl2_pivot.csv\n",
      "55      5.587563\n",
      "71      6.011698\n",
      "97      5.606095\n",
      "136     5.732444\n",
      "152     6.113709\n",
      "165     5.720388\n",
      "294     5.745847\n",
      "301     5.501636\n",
      "343     5.867088\n",
      "369     5.751403\n",
      "399     5.762935\n",
      "1193    5.489431\n",
      "1292    5.598139\n",
      "1300    5.967278\n",
      "1643    5.754777\n",
      "2781    5.790036\n",
      "3104    5.566323\n",
      "3353    5.599816\n",
      "3777    5.753917\n",
      "3803    5.573048\n",
      "3926    5.695182\n",
      "4132    5.661862\n",
      "4417    5.379242\n",
      "5429    5.769059\n",
      "6156    5.583245\n",
      "6460    5.917467\n",
      "6473    5.637995\n",
      "6952    5.268541\n",
      "7362    5.762380\n",
      "Name: 2021-11-07, dtype: float64\n",
      "reading cl3_pivot.csv\n",
      "37      5.280710\n",
      "38      5.210918\n",
      "93      4.783158\n",
      "95      5.351565\n",
      "96      5.029744\n",
      "          ...   \n",
      "8879    5.260663\n",
      "8947    4.540925\n",
      "9124    4.560548\n",
      "9247    4.727516\n",
      "9331    4.826530\n",
      "Name: 2021-11-07, Length: 182, dtype: float64\n",
      "reading cl4_pivot.csv\n",
      "131     4.585914\n",
      "134     2.611886\n",
      "217     4.320653\n",
      "243     4.659992\n",
      "262     4.474470\n",
      "          ...   \n",
      "7948    0.803744\n",
      "8390    4.523134\n",
      "8866    3.860812\n",
      "9836    4.639491\n",
      "9865    1.969673\n",
      "Name: 2021-11-07, Length: 89, dtype: float64\n"
     ]
    }
   ],
   "source": [
    "for slot in slots:\n",
    "    print(f\"reading cl{slot}_pivot.csv\")\n",
    "    df = pd.read_csv(f\"../../data/processed/cl{slot}_pivot.csv\")\n",
    "    df.set_index(\"week_start\", inplace=True)\n",
    "    forcated_df = pd.read_csv(f\"../../data/processed/cl{slot}_forecast.csv\")\n",
    "    df_last = np.log(df.loc['2021-11-07'])\n"
   ]
  },
  {
   "cell_type": "code",
   "execution_count": 60,
   "outputs": [
    {
     "name": "stdout",
     "output_type": "stream",
     "text": [
      "reading cl0_pivot.csv\n"
     ]
    },
    {
     "data": {
      "text/plain": "      2021-11-07  2021-11-14         new\n54      4.887251    8.774818   13.662069\n84      5.056692   58.846892   63.903583\n108     4.977720  140.391605  145.369324\n109     4.645085  128.382330  133.027415\n110     4.497074  168.836243  173.333317\n...          ...         ...         ...\n9182    4.814870  104.029725  108.844595\n9399    4.604934   11.478937   16.083871\n9519    4.846880   93.181225   98.028105\n9946    4.883462   86.044864   90.928326\n9996    4.472756  101.905909  106.378665\n\n[196 rows x 3 columns]",
      "text/html": "<div>\n<style scoped>\n    .dataframe tbody tr th:only-of-type {\n        vertical-align: middle;\n    }\n\n    .dataframe tbody tr th {\n        vertical-align: top;\n    }\n\n    .dataframe thead th {\n        text-align: right;\n    }\n</style>\n<table border=\"1\" class=\"dataframe\">\n  <thead>\n    <tr style=\"text-align: right;\">\n      <th></th>\n      <th>2021-11-07</th>\n      <th>2021-11-14</th>\n      <th>new</th>\n    </tr>\n  </thead>\n  <tbody>\n    <tr>\n      <th>54</th>\n      <td>4.887251</td>\n      <td>8.774818</td>\n      <td>13.662069</td>\n    </tr>\n    <tr>\n      <th>84</th>\n      <td>5.056692</td>\n      <td>58.846892</td>\n      <td>63.903583</td>\n    </tr>\n    <tr>\n      <th>108</th>\n      <td>4.977720</td>\n      <td>140.391605</td>\n      <td>145.369324</td>\n    </tr>\n    <tr>\n      <th>109</th>\n      <td>4.645085</td>\n      <td>128.382330</td>\n      <td>133.027415</td>\n    </tr>\n    <tr>\n      <th>110</th>\n      <td>4.497074</td>\n      <td>168.836243</td>\n      <td>173.333317</td>\n    </tr>\n    <tr>\n      <th>...</th>\n      <td>...</td>\n      <td>...</td>\n      <td>...</td>\n    </tr>\n    <tr>\n      <th>9182</th>\n      <td>4.814870</td>\n      <td>104.029725</td>\n      <td>108.844595</td>\n    </tr>\n    <tr>\n      <th>9399</th>\n      <td>4.604934</td>\n      <td>11.478937</td>\n      <td>16.083871</td>\n    </tr>\n    <tr>\n      <th>9519</th>\n      <td>4.846880</td>\n      <td>93.181225</td>\n      <td>98.028105</td>\n    </tr>\n    <tr>\n      <th>9946</th>\n      <td>4.883462</td>\n      <td>86.044864</td>\n      <td>90.928326</td>\n    </tr>\n    <tr>\n      <th>9996</th>\n      <td>4.472756</td>\n      <td>101.905909</td>\n      <td>106.378665</td>\n    </tr>\n  </tbody>\n</table>\n<p>196 rows × 3 columns</p>\n</div>"
     },
     "execution_count": 60,
     "metadata": {},
     "output_type": "execute_result"
    }
   ],
   "source": [
    "slot = 0\n",
    "print(f\"reading cl{slot}_pivot.csv\")\n",
    "df = pd.read_csv(f\"../../data/processed/cl{slot}_pivot.csv\")\n",
    "df.set_index(\"week_start\", inplace=True)\n",
    "forcated_df = pd.read_csv(f\"../../data/processed/cl{slot}_forecast.csv\")\n",
    "df_last = pd.DataFrame(np.log(df.loc['2021-11-07']))\n",
    "\n",
    "forcated_df = forcated_df.drop(columns=['Unnamed: 0']).T\n",
    "forcated_df.columns=['2021-11-14']\n",
    "\n",
    "combined = df_last.join(forcated_df)\n",
    "combined['new'] = combined['2021-11-07'] + combined['2021-11-14']\n",
    "combined"
   ],
   "metadata": {
    "collapsed": false,
    "pycharm": {
     "name": "#%%\n"
    }
   }
  },
  {
   "cell_type": "markdown",
   "source": [],
   "metadata": {
    "collapsed": false,
    "pycharm": {
     "name": "#%% md\n"
    }
   }
  }
 ],
 "metadata": {
  "interpreter": {
   "hash": "595743217c0d8e1e27b339191a82bf425c058bddb0f3496c02f04996a5e5fa09"
  },
  "kernelspec": {
   "display_name": "Python 3.10.0 ('venv': venv)",
   "language": "python",
   "name": "python3"
  },
  "language_info": {
   "codemirror_mode": {
    "name": "ipython",
    "version": 3
   },
   "file_extension": ".py",
   "mimetype": "text/x-python",
   "name": "python",
   "nbconvert_exporter": "python",
   "pygments_lexer": "ipython3",
   "version": "3.10.0"
  },
  "orig_nbformat": 4
 },
 "nbformat": 4,
 "nbformat_minor": 2
}